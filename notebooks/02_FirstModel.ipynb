{
 "cells": [
  {
   "cell_type": "markdown",
   "id": "female-orleans",
   "metadata": {},
   "source": [
    "# First Model\n",
    "\n",
    "The idea is to create a first model as quick as possible. This will give not the best results,\n",
    "but allows to iterate fast and deliver already a prototypic API later on."
   ]
  },
  {
   "cell_type": "code",
   "execution_count": 1,
   "id": "portuguese-passing",
   "metadata": {},
   "outputs": [],
   "source": [
    "import pandas as pd\n",
    "import numpy as np\n",
    "from IPython.display import Markdown\n",
    "from sklearn.ensemble import RandomForestClassifier\n",
    "from sklearn.model_selection import train_test_split\n",
    "import sklearn.metrics as me\n",
    "import category_encoders as ce"
   ]
  },
  {
   "cell_type": "code",
   "execution_count": 2,
   "id": "independent-party",
   "metadata": {},
   "outputs": [],
   "source": [
    "data = pd.read_csv('../data/bank-additional-full.csv', sep=';')"
   ]
  },
  {
   "cell_type": "code",
   "execution_count": 3,
   "id": "significant-clearance",
   "metadata": {},
   "outputs": [],
   "source": [
    "# the data information says, that duration should not be used, since it\n",
    "# is only available after the marketing call\n",
    "data = data.drop(columns=['duration'])"
   ]
  },
  {
   "cell_type": "code",
   "execution_count": 4,
   "id": "dominican-cream",
   "metadata": {},
   "outputs": [],
   "source": [
    "data['y'] = data['y'].map({'no': 0, 'yes': 1})"
   ]
  },
  {
   "cell_type": "markdown",
   "id": "parental-chinese",
   "metadata": {},
   "source": [
    "## train - test  split\n",
    "\n",
    "Before starting to train the model the data is split into a train and a test set.\n",
    "There is a lot wrong with this simple appraoch here, but the model we build firstly will be thrown away anyways.\n",
    "In a later phase one has to correct this in two (and a half) ways:\n",
    "* we need a speparate set for the model validation and hyperparameter optimization\n",
    "* due to the low number of positive cases, one should use a startified split, such that\n",
    "  each set has enough positive samples\n",
    "* the total number of samples is not too high, so for validation a KFold approach would be advantageous"
   ]
  },
  {
   "cell_type": "code",
   "execution_count": 5,
   "id": "together-stewart",
   "metadata": {},
   "outputs": [],
   "source": [
    "train, test = train_test_split(data, test_size=0.2, random_state=42)"
   ]
  },
  {
   "cell_type": "markdown",
   "id": "animal-sudan",
   "metadata": {},
   "source": [
    "As as little as possible time should go into the model building, the categorical variables are one-hot encoded."
   ]
  },
  {
   "cell_type": "code",
   "execution_count": 6,
   "id": "decimal-movement",
   "metadata": {},
   "outputs": [],
   "source": [
    "cat_cols = train.dtypes[train.dtypes == 'object'].index"
   ]
  },
  {
   "cell_type": "code",
   "execution_count": 7,
   "id": "passing-attendance",
   "metadata": {},
   "outputs": [],
   "source": [
    "enc = ce.OneHotEncoder(return_df=True, cols=cat_cols, drop_invariant=True)"
   ]
  },
  {
   "cell_type": "code",
   "execution_count": 8,
   "id": "animal-flashing",
   "metadata": {},
   "outputs": [
    {
     "name": "stderr",
     "output_type": "stream",
     "text": [
      "/home/marenz/miniconda3/envs/model2cloud/lib/python3.9/site-packages/category_encoders/utils.py:21: FutureWarning: is_categorical is deprecated and will be removed in a future version.  Use is_categorical_dtype instead\n",
      "  elif pd.api.types.is_categorical(cols):\n"
     ]
    }
   ],
   "source": [
    "train = enc.fit_transform(train)\n",
    "test = enc.transform(test)"
   ]
  },
  {
   "cell_type": "code",
   "execution_count": 9,
   "id": "processed-sheet",
   "metadata": {},
   "outputs": [],
   "source": [
    "x_train = train.drop(columns=['y'])\n",
    "y_train = train['y']\n",
    "x_test = test.drop(columns=['y'])\n",
    "y_test = test['y']"
   ]
  },
  {
   "cell_type": "code",
   "execution_count": 10,
   "id": "signed-duncan",
   "metadata": {},
   "outputs": [],
   "source": [
    "clf = RandomForestClassifier(\n",
    "    n_estimators=200,\n",
    "    class_weight='balanced',\n",
    "    max_depth=10,\n",
    ")"
   ]
  },
  {
   "cell_type": "code",
   "execution_count": 11,
   "id": "independent-latin",
   "metadata": {},
   "outputs": [
    {
     "data": {
      "text/plain": [
       "RandomForestClassifier(class_weight='balanced', max_depth=10, n_estimators=200)"
      ]
     },
     "execution_count": 11,
     "metadata": {},
     "output_type": "execute_result"
    }
   ],
   "source": [
    "clf.fit(x_train, y_train)"
   ]
  },
  {
   "cell_type": "markdown",
   "id": "forward-briefing",
   "metadata": {},
   "source": [
    "## Performance metrics\n",
    "\n",
    "As above, not details or exhausive work here. Just as fast as possible to something which is not total nonsense.\n",
    "Speaking of total nonsense, using the accuracy here would be total nonsense due to the class imbalance.\n",
    "However, for now the balanced accuracy is used as the next best thing. Although, not the best metric\n",
    "for this task."
   ]
  },
  {
   "cell_type": "code",
   "execution_count": 12,
   "id": "italian-empire",
   "metadata": {},
   "outputs": [],
   "source": [
    "pred_train = clf.predict(x_train)\n",
    "pred_test = clf.predict(x_test)"
   ]
  },
  {
   "cell_type": "code",
   "execution_count": 13,
   "id": "brazilian-nirvana",
   "metadata": {},
   "outputs": [
    {
     "data": {
      "text/markdown": [
       "\n",
       "Balanced accuracy on the training data 0.760\n",
       "\n",
       "Balanced accuracy on the test data 0.734\n",
       "\n",
       "Using a plain RandomForestClassifier where only the max_depth is restircted to 10,\n",
       "there overfitting is ~~ok~~ not too bad.\n",
       "\n",
       "Honestly, also the confusion matrix and the precision-recall curve looks quite nice.\n",
       "Much better than I would have expected. Usually, these tasks are a little bit harder.\n"
      ],
      "text/plain": [
       "<IPython.core.display.Markdown object>"
      ]
     },
     "execution_count": 13,
     "metadata": {},
     "output_type": "execute_result"
    }
   ],
   "source": [
    "Markdown(\n",
    "f\"\"\"\n",
    "Balanced accuracy on the training data {me.balanced_accuracy_score(y_train, pred_train):.3f}\n",
    "\n",
    "Balanced accuracy on the test data {me.balanced_accuracy_score(y_test, pred_test):.3f}\n",
    "\n",
    "Using a plain RandomForestClassifier where only the max_depth is restircted to 10,\n",
    "there overfitting is ~~ok~~ not too bad.\n",
    "\n",
    "Honestly, also the confusion matrix and the precision-recall curve looks quite nice.\n",
    "Much better than I would have expected. Usually, these tasks are a little bit harder.\n",
    "\"\"\")"
   ]
  },
  {
   "cell_type": "code",
   "execution_count": 14,
   "id": "motivated-equation",
   "metadata": {},
   "outputs": [
    {
     "data": {
      "text/plain": [
       "<sklearn.metrics._plot.confusion_matrix.ConfusionMatrixDisplay at 0x7f0636ac27c0>"
      ]
     },
     "execution_count": 14,
     "metadata": {},
     "output_type": "execute_result"
    },
    {
     "data": {
      "image/png": "[encoded data removed]",
      "text/plain": [
       "<Figure size 432x288 with 2 Axes>"
      ]
     },
     "metadata": {
      "needs_background": "light"
     },
     "output_type": "display_data"
    }
   ],
   "source": [
    "me.plot_confusion_matrix(clf, x_test, y_test, normalize='true')"
   ]
  },
  {
   "cell_type": "code",
   "execution_count": 15,
   "id": "fifth-equilibrium",
   "metadata": {},
   "outputs": [
    {
     "data": {
      "text/plain": [
       "<sklearn.metrics._plot.precision_recall_curve.PrecisionRecallDisplay at 0x7f0636a81d00>"
      ]
     },
     "execution_count": 15,
     "metadata": {},
     "output_type": "execute_result"
    },
    {
     "data": {
      "image/png": "[encoded data removed]",
      "text/plain": [
       "<Figure size 432x288 with 1 Axes>"
      ]
     },
     "metadata": {
      "needs_background": "light"
     },
     "output_type": "display_data"
    }
   ],
   "source": [
    "me.plot_precision_recall_curve(clf, x_test, y_test)"
   ]
  },
  {
   "cell_type": "markdown",
   "id": "automated-anderson",
   "metadata": {},
   "source": [
    "## Final Training\n",
    "\n",
    "Finally, the model is trained on the full dataset and stored in a pickle file."
   ]
  },
  {
   "cell_type": "code",
   "execution_count": 16,
   "id": "ready-workshop",
   "metadata": {},
   "outputs": [
    {
     "name": "stderr",
     "output_type": "stream",
     "text": [
      "/home/marenz/miniconda3/envs/model2cloud/lib/python3.9/site-packages/category_encoders/utils.py:21: FutureWarning: is_categorical is deprecated and will be removed in a future version.  Use is_categorical_dtype instead\n",
      "  elif pd.api.types.is_categorical(cols):\n"
     ]
    },
    {
     "data": {
      "text/plain": [
       "RandomForestClassifier(class_weight='balanced', max_depth=10, n_estimators=200)"
      ]
     },
     "execution_count": 16,
     "metadata": {},
     "output_type": "execute_result"
    }
   ],
   "source": [
    "x = data.drop(columns=['y'])\n",
    "y = data['y']\n",
    "\n",
    "x = enc.fit_transform(x, y)\n",
    "clf.fit(x, y)"
   ]
  },
  {
   "cell_type": "code",
   "execution_count": 17,
   "id": "inside-volume",
   "metadata": {},
   "outputs": [],
   "source": [
    "import pickle\n",
    "from pathlib import Path"
   ]
  },
  {
   "cell_type": "code",
   "execution_count": 18,
   "id": "accredited-seating",
   "metadata": {},
   "outputs": [],
   "source": [
    "model_dir = Path('../app/model/')\n",
    "model_dir.mkdir(exist_ok=True, parents=True)"
   ]
  },
  {
   "cell_type": "code",
   "execution_count": 19,
   "id": "bizarre-physics",
   "metadata": {},
   "outputs": [],
   "source": [
    "with open(model_dir / 'simple_enc.pkl', 'wb') as handle:\n",
    "    pickle.dump(enc, handle)\n",
    "    \n",
    "with open(model_dir / 'simple_rf.pkl', 'wb') as handle:\n",
    "    pickle.dump(clf, handle)"
   ]
  }
 ],
 "metadata": {
  "kernelspec": {
   "display_name": "Python 3",
   "language": "python",
   "name": "python3"
  },
  "language_info": {
   "codemirror_mode": {
    "name": "ipython",
    "version": 3
   },
   "file_extension": ".py",
   "mimetype": "text/x-python",
   "name": "python",
   "nbconvert_exporter": "python",
   "pygments_lexer": "ipython3",
   "version": "3.9.2"
  },
  "toc": {
   "base_numbering": 1,
   "nav_menu": {},
   "number_sections": true,
   "sideBar": true,
   "skip_h1_title": false,
   "title_cell": "Table of Contents",
   "title_sidebar": "Contents",
   "toc_cell": false,
   "toc_position": {},
   "toc_section_display": true,
   "toc_window_display": false
  }
 },
 "nbformat": 4,
 "nbformat_minor": 5
}
