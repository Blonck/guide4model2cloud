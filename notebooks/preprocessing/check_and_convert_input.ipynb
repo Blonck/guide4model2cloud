{
 "cells": [
  {
   "cell_type": "code",
   "execution_count": 1,
   "id": "respiratory-marina",
   "metadata": {},
   "outputs": [],
   "source": [
    "from pathlib import Path\n",
    "import pandas as pd\n",
    "\n",
    "%run ../helper/git_root.py"
   ]
  },
  {
   "cell_type": "code",
   "execution_count": 2,
   "id": "formal-breakfast",
   "metadata": {},
   "outputs": [],
   "source": [
    "dpath = Path(get_git_root('.')) / 'data'"
   ]
  },
  {
   "cell_type": "code",
   "execution_count": 3,
   "id": "planned-blank",
   "metadata": {},
   "outputs": [],
   "source": [
    "data = pd.read_csv(dpath / 'bank-additional-full.csv', sep=';')"
   ]
  },
  {
   "cell_type": "code",
   "execution_count": 4,
   "id": "least-spring",
   "metadata": {},
   "outputs": [],
   "source": [
    "# check that the all expected columns are present\n",
    "assert set(data.columns) == set(['age', 'job', 'marital', 'education', 'default', 'housing', 'loan',\n",
    "                                 'contact', 'month', 'day_of_week', 'duration', 'campaign', 'pdays',\n",
    "                                 'previous', 'poutcome', 'emp.var.rate', 'cons.price.idx',\n",
    "                                 'cons.conf.idx', 'euribor3m', 'nr.employed', 'y'])\n",
    "\n",
    "# drop duration columns, since it should not be used for building the model,\n",
    "# see data information '../../data/bank-additional-names.txt'\n",
    "data = data.drop(columns=['duration'])"
   ]
  },
  {
   "cell_type": "code",
   "execution_count": 5,
   "id": "developing-browse",
   "metadata": {},
   "outputs": [],
   "source": [
    "# convert strings in categorical variables\n",
    "cat_cols = data.dtypes[data.dtypes == 'object'].index\n",
    "\n",
    "for col in cat_cols:\n",
    "    data[col] = data[col].astype('category')"
   ]
  },
  {
   "cell_type": "code",
   "execution_count": 6,
   "id": "political-vault",
   "metadata": {},
   "outputs": [],
   "source": [
    "# convert target in common representation\n",
    "data['y'] = data['y'].map({'no': 0, 'yes': 1})"
   ]
  },
  {
   "cell_type": "code",
   "execution_count": 7,
   "id": "upper-chamber",
   "metadata": {},
   "outputs": [],
   "source": [
    "data.to_parquet(dpath / 'bank-additional-full.parquet')"
   ]
  }
 ],
 "metadata": {
  "kernelspec": {
   "display_name": "Python 3",
   "language": "python",
   "name": "python3"
  },
  "language_info": {
   "codemirror_mode": {
    "name": "ipython",
    "version": 3
   },
   "file_extension": ".py",
   "mimetype": "text/x-python",
   "name": "python",
   "nbconvert_exporter": "python",
   "pygments_lexer": "ipython3",
   "version": "3.9.2"
  },
  "toc": {
   "base_numbering": 1,
   "nav_menu": {},
   "number_sections": true,
   "sideBar": true,
   "skip_h1_title": false,
   "title_cell": "Table of Contents",
   "title_sidebar": "Contents",
   "toc_cell": false,
   "toc_position": {},
   "toc_section_display": true,
   "toc_window_display": false
  }
 },
 "nbformat": 4,
 "nbformat_minor": 5
}
