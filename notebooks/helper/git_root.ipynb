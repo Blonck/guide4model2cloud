{
 "cells": [
  {
   "cell_type": "code",
   "execution_count": 7,
   "id": "ecological-arbor",
   "metadata": {},
   "outputs": [],
   "source": [
    "import git\n",
    "\n",
    "def get_git_root(path):\n",
    "        git_repo = git.Repo(path, search_parent_directories=True)\n",
    "        git_root = git_repo.git.rev_parse(\"--show-toplevel\")\n",
    "        return git_root"
   ]
  },
  {
   "cell_type": "code",
   "execution_count": 9,
   "id": "alpine-journey",
   "metadata": {},
   "outputs": [],
   "source": [
    "GIT_ROOT = get_git_root('.')"
   ]
  }
 ],
 "metadata": {
  "kernelspec": {
   "display_name": "Python 3",
   "language": "python",
   "name": "python3"
  },
  "language_info": {
   "codemirror_mode": {
    "name": "ipython",
    "version": 3
   },
   "file_extension": ".py",
   "mimetype": "text/x-python",
   "name": "python",
   "nbconvert_exporter": "python",
   "pygments_lexer": "ipython3",
   "version": "3.9.2"
  },
  "toc": {
   "base_numbering": 1,
   "nav_menu": {},
   "number_sections": true,
   "sideBar": true,
   "skip_h1_title": false,
   "title_cell": "Table of Contents",
   "title_sidebar": "Contents",
   "toc_cell": false,
   "toc_position": {},
   "toc_section_display": true,
   "toc_window_display": false
  }
 },
 "nbformat": 4,
 "nbformat_minor": 5
}
