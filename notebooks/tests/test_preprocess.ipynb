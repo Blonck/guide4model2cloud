{
 "cells": [
  {
   "cell_type": "code",
   "execution_count": 91,
   "id": "bored-tablet",
   "metadata": {},
   "outputs": [],
   "source": [
    "import pandas as pd\n",
    "import numpy as np\n",
    "\n",
    "import unittest\n",
    "\n",
    "%run ../../app/preprocess.py"
   ]
  },
  {
   "cell_type": "code",
   "execution_count": 2,
   "id": "bacterial-priest",
   "metadata": {},
   "outputs": [],
   "source": [
    "data = pd.read_parquet('../../data/bank-additional-full.parquet')"
   ]
  },
  {
   "cell_type": "code",
   "execution_count": 3,
   "id": "confirmed-redhead",
   "metadata": {},
   "outputs": [],
   "source": [
    "xtr = CustomTransformer().fit_transform(X=data, y=data['y'])"
   ]
  },
  {
   "cell_type": "code",
   "execution_count": 94,
   "id": "promotional-basket",
   "metadata": {},
   "outputs": [],
   "source": [
    "class TestCustomTransformer(unittest.TestCase):\n",
    "    \n",
    "    def test_run_on_full_dataset(self):\n",
    "        \"\"\"Just runs the CustomTransformer on full dataset\"\"\"\n",
    "        xtr = CustomTransformer().fit_transform(X=data, y=data['y'])\n",
    "        \n",
    "        self.assertEqual(len(data), len(xtr))\n",
    "        self.assertFalse(xtr.empty)\n",
    "        \n",
    "    def test_drop_nr_employed(self):\n",
    "        xtr = CustomTransformer(nr_employed={'drop': False}).fit_transform(X=data, y=data['y'])\n",
    "        self.assertTrue('nr.employed' in xtr.columns)\n",
    "        \n",
    "        xtr = CustomTransformer(nr_employed={'drop': True}).fit_transform(X=data, y=data['y'])\n",
    "        self.assertFalse('nr.employed' in xtr.columns)\n",
    "        \n",
    "    def test_drop_cons_conf_idx(self):\n",
    "        xtr = CustomTransformer(cons_conf_idx={'drop': False}).fit_transform(X=data, y=data['y'])\n",
    "        self.assertTrue('cons.conf.idx' in xtr.columns)\n",
    "        \n",
    "        xtr = CustomTransformer(cons_conf_idx={'drop': True}).fit_transform(X=data, y=data['y'])\n",
    "        self.assertFalse('cons.conf.idx' in xtr.columns)\n",
    "        \n",
    "    def test_drop_cons_price_idx(self):\n",
    "        xtr = CustomTransformer(cons_price_idx={'drop': False}).fit_transform(X=data, y=data['y'])\n",
    "        self.assertTrue('cons.price.idx' in xtr.columns)\n",
    "        \n",
    "        xtr = CustomTransformer(cons_price_idx={'drop': True}).fit_transform(X=data, y=data['y'])\n",
    "        self.assertFalse('cons.price.idx' in xtr.columns)\n",
    "        \n",
    "    def test_drop_emp_var_rate(self):\n",
    "        xtr = CustomTransformer(emp_var_rate={'drop': False}).fit_transform(X=data, y=data['y'])\n",
    "        self.assertTrue('emp.var.rate' in xtr.columns)\n",
    "        \n",
    "        xtr = CustomTransformer(emp_var_rate={'drop': True}).fit_transform(X=data, y=data['y'])\n",
    "        self.assertFalse('emp.var.rate' in xtr.columns)  \n",
    "        \n",
    "    def test_drop_month(self):\n",
    "        xtr = CustomTransformer(month={'drop': False}).fit_transform(X=data, y=data['y'])\n",
    "        self.assertTrue('month' in xtr.columns)\n",
    "        \n",
    "        xtr = CustomTransformer(month={'drop': True}).fit_transform(X=data, y=data['y'])\n",
    "        self.assertFalse('month' in xtr.columns)  \n",
    "        \n",
    "    def test_replace_pdays(self):\n",
    "        xtr = CustomTransformer(pdays={'replace_999': False}).fit_transform(X=data, y=data['y'])\n",
    "        self.assertTrue(999 in xtr['pdays'].unique())\n",
    "        \n",
    "        xtr = CustomTransformer(pdays={'replace_999': '-1'}).fit_transform(X=data, y=data['y'])\n",
    "        self.assertFalse(999 in xtr['pdays'].unique())\n",
    "        self.assertTrue(-1 in xtr['pdays'].unique())\n",
    "        \n",
    "    def test_replace_unknown_load(self):\n",
    "        xtr = CustomTransformer(loan={'replace_unknown': False}).fit_transform(X=data, y=data['y'])\n",
    "        self.assertTrue('unknown' in xtr['loan'].unique())\n",
    "        \n",
    "    def test_replace_yes_default(self):\n",
    "        xtr = CustomTransformer(default={'replace_yes': 'unknown'}).fit_transform(X=data, y=data['y'])\n",
    "        self.assertTrue('unknown' in xtr['default'].unique())\n",
    "        self.assertFalse('yes' in xtr['default'].unique())\n",
    "        \n",
    "    def test_replace_education(self):\n",
    "        xtr = CustomTransformer(\n",
    "            education={'replace_unknown': 'mode', 'replace_illiterate': 'mode'}\n",
    "        ).fit_transform(X=data, y=data['y'])\n",
    "        \n",
    "        self.assertFalse('unknown' in xtr['education'].unique())\n",
    "        self.assertFalse('illiterate' in xtr['education'].unique())\n",
    "        \n",
    "        xtr = CustomTransformer(\n",
    "            education={'replace_unknown': False, 'replace_illiterate': 'mode'}\n",
    "        ).fit_transform(X=data, y=data['y'])\n",
    "        \n",
    "        self.assertTrue('unknown' in xtr['education'].unique())\n",
    "        self.assertFalse('illiterate' in xtr['education'].unique())\n",
    "        \n",
    "    def test_replace_unknown_job(self):\n",
    "        xtr = CustomTransformer(job={'replace_unknown': 'mode'}).fit_transform(X=data, y=data['y'])\n",
    "        self.assertFalse('unknown' in xtr['job'].unique())\n",
    "        \n",
    "        xtr = CustomTransformer(job={'replace_unknown': False}).fit_transform(X=data, y=data['y'])\n",
    "        self.assertTrue('unknown' in xtr['job'].unique())\n",
    "        \n",
    "    def test_replace_unknown_martial(self):\n",
    "        xtr = CustomTransformer(marital={'replace_unknown': 'mode'}).fit_transform(X=data, y=data['y'])\n",
    "        self.assertFalse('unknown' in xtr['marital'].unique())\n",
    "        \n",
    "        xtr = CustomTransformer(marital={'replace_unknown': False}).fit_transform(X=data, y=data['y'])\n",
    "        self.assertTrue('unknown' in xtr['marital'].unique())"
   ]
  },
  {
   "cell_type": "code",
   "execution_count": 95,
   "id": "heard-marshall",
   "metadata": {},
   "outputs": [
    {
     "name": "stderr",
     "output_type": "stream",
     "text": [
      "test_drop_cons_conf_idx (__main__.TestCustomTransformer) ... ok\n",
      "test_drop_cons_price_idx (__main__.TestCustomTransformer) ... ok\n",
      "test_drop_emp_var_rate (__main__.TestCustomTransformer) ... ok\n",
      "test_drop_month (__main__.TestCustomTransformer) ... ok\n",
      "test_drop_nr_employed (__main__.TestCustomTransformer) ... ok\n",
      "test_replace_education (__main__.TestCustomTransformer) ... ok\n",
      "test_replace_pdays (__main__.TestCustomTransformer) ... ok\n",
      "test_replace_unknown_job (__main__.TestCustomTransformer) ... ok\n",
      "test_replace_unknown_load (__main__.TestCustomTransformer) ... ok\n",
      "test_replace_unknown_martial (__main__.TestCustomTransformer) ... ok\n",
      "test_replace_yes_default (__main__.TestCustomTransformer) ... ok\n",
      "test_run_on_full_dataset (__main__.TestCustomTransformer)\n",
      "Just runs the CustomTransformer on full dataset ... ok\n",
      "\n",
      "----------------------------------------------------------------------\n",
      "Ran 12 tests in 0.502s\n",
      "\n",
      "OK\n"
     ]
    },
    {
     "data": {
      "text/plain": [
       "<unittest.main.TestProgram at 0x7f2dcd99d8b0>"
      ]
     },
     "execution_count": 95,
     "metadata": {},
     "output_type": "execute_result"
    }
   ],
   "source": [
    "unittest.main(argv=[''], verbosity=2, exit=False)"
   ]
  }
 ],
 "metadata": {
  "kernelspec": {
   "display_name": "Python 3",
   "language": "python",
   "name": "python3"
  },
  "language_info": {
   "codemirror_mode": {
    "name": "ipython",
    "version": 3
   },
   "file_extension": ".py",
   "mimetype": "text/x-python",
   "name": "python",
   "nbconvert_exporter": "python",
   "pygments_lexer": "ipython3",
   "version": "3.9.2"
  }
 },
 "nbformat": 4,
 "nbformat_minor": 5
}
