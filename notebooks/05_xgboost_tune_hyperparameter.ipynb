{
 "cells": [
  {
   "cell_type": "code",
   "execution_count": 4,
   "id": "continental-answer",
   "metadata": {},
   "outputs": [],
   "source": [
    "import joblib\n",
    "from pathlib import Path\n",
    "\n",
    "import pandas as pd\n",
    "import optuna as opt\n",
    "from sklearn.model_selection import train_test_split, StratifiedKFold\n",
    "from sklearn.ensemble import RandomForestClassifier, ExtraTreesClassifier, GradientBoostingClassifier\n",
    "import sklearn.metrics as me\n",
    "\n",
    "\n",
    "# ignore future warnings from numpy due to category_encoders\n",
    "import warnings\n",
    "warnings.filterwarnings(\"ignore\", category=FutureWarning) \n",
    "\n",
    "import category_encoders as ce\n",
    "\n",
    "%run ../app/preprocess.py"
   ]
  },
  {
   "cell_type": "code",
   "execution_count": 2,
   "id": "amazing-valentine",
   "metadata": {},
   "outputs": [],
   "source": [
    "data = pd.read_parquet('../data/bank-additional-full.parquet')\n",
    "\n",
    "train, test = train_test_split(data, test_size=0.15, random_state=42)"
   ]
  },
  {
   "cell_type": "code",
   "execution_count": 3,
   "id": "static-purchase",
   "metadata": {},
   "outputs": [],
   "source": [
    "x = train.drop(columns=['y']).reset_index(drop=True)\n",
    "y = train['y'].reset_index(drop=True)\n",
    "\n",
    "x_test = test.drop(columns=['y']).reset_index(drop=True)\n",
    "y_test = test['y'].reset_index(drop=True)"
   ]
  },
  {
   "cell_type": "code",
   "execution_count": 5,
   "id": "turkish-vanilla",
   "metadata": {},
   "outputs": [],
   "source": [
    "encoders = {\n",
    "    \"one-hot\": ce.OneHotEncoder(\n",
    "        drop_invariant=True, return_df=True, use_cat_names=True\n",
    "    ),\n",
    "    \"woe\": ce.WOEEncoder(drop_invariant=True, return_df=True),\n",
    "    \"binary\": ce.BinaryEncoder(drop_invariant=True, return_df=True),\n",
    "}\n",
    "\n",
    "\n",
    "def objective(trial: opt.Trial):\n",
    "    # only test dropping sozio economic facotrs\n",
    "    drop_sozioeco = trial.suggest_categorical(\"drop_eco\", [True, False])\n",
    "    # rest of preprocessing keeps default values\n",
    "\n",
    "    # categrorial encoding, try identical encoders for all columns (for now)\n",
    "    enc_name = trial.suggest_categorical(\"encoder\", [\"one-hot\", \"woe\", \"binary\"])\n",
    "    enc = encoders[enc_name]\n",
    "\n",
    "    x_tr = enc.fit_transform(x, y)\n",
    "\n",
    "    param = {\n",
    "        \"verbosity\": 0,\n",
    "        \"obective\": \"binary:logistic\",\n",
    "        \"eval_metric\": [\"aucpr\"],\n",
    "        \"max_depth\": trial.suggest_int(\"max_depth\", 4, 8),\n",
    "        \"booster\": \"gbtree\",\n",
    "        \"lambda\": trial.suggest_float(\"lambda\", 1e-7, 0.5, log=True),\n",
    "        \"alpha\": trial.suggest_float(\"alpha\", 1e-8, 0.5, log=True),\n",
    "        \"subsample\": trial.suggest_uniform(\"subsample\", 0.5, 1.0),\n",
    "        \"eta\": trial.suggest_loguniform(\"lr\", 1e-5, 0.2),\n",
    "        \"gamma\": trial.suggest_loguniform(\"gamma\", 1e-8, 1.0),\n",
    "        \"grow_policy\": trial.suggest_categorical(\n",
    "            \"grow_policy\", [\"depthwise\", \"lossguide\"]\n",
    "        )\n",
    "    }\n",
    "    \n",
    "    dtrain = xgb.DMatrix(x_tr, label=y)\n",
    "    cb = optuna.integration.XGBoostPruningCallback(trial, observation_key='test-aucpr')\n",
    "\n",
    "    scores = xgb.cv(\n",
    "        param,\n",
    "        dtrain,\n",
    "        nfold=5,\n",
    "        stratified=True\n",
    "    )\n",
    "    \n",
    "    test_aucpr = score['test-aucpr-mean'].values[-1]\n",
    "    \n",
    "    return test_aucpr"
   ]
  },
  {
   "cell_type": "code",
   "execution_count": 6,
   "id": "recreational-death",
   "metadata": {},
   "outputs": [],
   "source": [
    "pruner = opt.pruners.MedianPruner(n_warmup_steps=40, interval_steps=4)"
   ]
  },
  {
   "cell_type": "code",
   "execution_count": 8,
   "id": "molecular-membrane",
   "metadata": {},
   "outputs": [
    {
     "name": "stderr",
     "output_type": "stream",
     "text": [
      "\u001b[32m[I 2021-03-15 14:34:40,902]\u001b[0m A new study created in memory with name: no-name-76f08f29-2f0d-4f1a-ab84-fa2f5eea5981\u001b[0m\n"
     ]
    }
   ],
   "source": [
    "study = opt.create_study(direction='maximize', pruner=pruner)"
   ]
  },
  {
   "cell_type": "code",
   "execution_count": null,
   "id": "packed-bidding",
   "metadata": {},
   "outputs": [],
   "source": [
    "study.optimize(objective, timeout=60*60*12, n_jobs=4)"
   ]
  }
 ],
 "metadata": {
  "kernelspec": {
   "display_name": "Python 3",
   "language": "python",
   "name": "python3"
  },
  "language_info": {
   "codemirror_mode": {
    "name": "ipython",
    "version": 3
   },
   "file_extension": ".py",
   "mimetype": "text/x-python",
   "name": "python",
   "nbconvert_exporter": "python",
   "pygments_lexer": "ipython3",
   "version": "3.9.2"
  }
 },
 "nbformat": 4,
 "nbformat_minor": 5
}
