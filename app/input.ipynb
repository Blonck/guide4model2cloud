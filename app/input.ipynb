{
 "cells": [
  {
   "cell_type": "code",
   "execution_count": null,
   "id": "literary-clock",
   "metadata": {},
   "outputs": [],
   "source": [
    "from pydantic import BaseModel\n",
    "from fastapi import Query"
   ]
  },
  {
   "cell_type": "code",
   "execution_count": null,
   "id": "likely-memory",
   "metadata": {},
   "outputs": [],
   "source": [
    "class ClientDataSimple(BaseModel):\n",
    "    age: int = Query(..., ge=0)\n",
    "    job: str = Query(...)\n",
    "    marital: str = Query(...)\n",
    "    education: str = Query(...)\n",
    "    default: str = Query(...)\n",
    "    housing: str = Query(...)\n",
    "    loan: str = Query(...)\n",
    "    contact: str = Query(...)\n",
    "    month: str = Query(...)\n",
    "    day_of_week: str = Query(...)\n",
    "    campaign: int = Query(..., ge=0)\n",
    "    pdays: int = Query(..., ge=0)\n",
    "    previous: int = Query(..., ge=0)\n",
    "    poutcome: str = Query(...)\n",
    "    emp_var_rate: int = Query(...)\n",
    "    cons_price_idx: int = Query(...)\n",
    "    cons_conf_idx: int = Query(...)\n",
    "    euribor3m: int = Query(...)\n",
    "    nr_employed: int = Query(...)"
   ]
  }
 ],
 "metadata": {
  "jupytext": {
   "cell_metadata_filter": "-all",
   "main_language": "python",
   "notebook_metadata_filter": "-all"
  }
 },
 "nbformat": 4,
 "nbformat_minor": 5
}
